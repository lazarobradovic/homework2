{
 "cells": [
  {
   "cell_type": "code",
   "execution_count": null,
   "id": "3abcfb61",
   "metadata": {},
   "outputs": [],
   "source": [
    "from matplotlib import pyplot as plt\n",
    "import pandas as pd\n",
    "\n",
    "data = pd.read_csv('output.txt', sep='\\t', names=['N', 'Series'])\n",
    "print(data)\n",
    "\n",
    "# plt.scatter(x_data, y_data, label=\"Data points\")\n",
    "# plt.xlabel(\"N\")\n",
    "# plt.ylabel(\"Series\")\n",
    "# plt.title(\"Scatter Plot of Data\")\n",
    "# plt.legend()\n",
    "# plt.grid(True)\n",
    "# plt.show()"
   ]
  }
 ],
 "metadata": {
  "kernelspec": {
   "display_name": "Python 3 (ipykernel)",
   "language": "python",
   "name": "python3"
  },
  "language_info": {
   "codemirror_mode": {
    "name": "ipython",
    "version": 3
   },
   "file_extension": ".py",
   "mimetype": "text/x-python",
   "name": "python",
   "nbconvert_exporter": "python",
   "pygments_lexer": "ipython3",
   "version": "3.10.9"
  }
 },
 "nbformat": 4,
 "nbformat_minor": 5
}
